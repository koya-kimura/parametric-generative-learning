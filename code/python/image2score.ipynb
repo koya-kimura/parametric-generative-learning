{
 "cells": [
  {
   "cell_type": "markdown",
   "id": "2c224a57",
   "metadata": {},
   "source": [
    "### Step 1: ライブラリの読み込みとパス定義\n",
    "\n",
    "画像からスコアを予測するCNNモデルを構築するために、必要なライブラリを読み込み、データのパスを定義します。\n",
    "\n",
    "- `torch`：PyTorch本体\n",
    "- `torchvision.transforms`：画像前処理用\n",
    "- `PIL.Image`：画像の読み込み\n",
    "- `pandas`：CSVデータの操作\n",
    "- `Pathlib`：パス操作\n",
    "- `matplotlib.pyplot`：結果の可視化\n",
    "- `train_test_split`：訓練・検証データの分割\n",
    "\n",
    "また、使用するデバイス（CUDA, MPS, CPU）を自動で判定します。"
   ]
  },
  {
   "cell_type": "code",
   "execution_count": 11,
   "id": "641dc6ca",
   "metadata": {},
   "outputs": [
    {
     "name": "stdout",
     "output_type": "stream",
     "text": [
      "Using device: mps\n"
     ]
    }
   ],
   "source": [
    "import torch\n",
    "import torch.nn as nn\n",
    "from torch.utils.data import Dataset, DataLoader\n",
    "from torchvision import transforms\n",
    "from PIL import Image\n",
    "import pandas as pd\n",
    "from pathlib import Path\n",
    "import matplotlib.pyplot as plt\n",
    "\n",
    "from sklearn.model_selection import train_test_split\n",
    "\n",
    "# パス定義\n",
    "DATA_DIR = Path('../../data/circle-text')\n",
    "CSV_PATH = DATA_DIR / 'metadata.csv'\n",
    "IMG_DIR = DATA_DIR / 'images'\n",
    "\n",
    "# デバイス設定（CUDA > MPS > CPU）\n",
    "device = torch.device('cuda' if torch.cuda.is_available() else\n",
    "                      'mps' if torch.backends.mps.is_available() else 'cpu')\n",
    "\n",
    "print(\"Using device:\", device)"
   ]
  },
  {
   "cell_type": "markdown",
   "id": "050dfecd",
   "metadata": {},
   "source": [
    "### Step 2: DatasetクラスとTransformの定義\n",
    "\n",
    "画像とスコア（連続値）をペアで読み込むカスタムDatasetクラス `ScoreImageDataset` を定義します。\n",
    "\n",
    "- 各画像ファイルは `metadata.csv` の `id` 列から `<id>.png` として読み込まれます。\n",
    "- スコア列（`score`）は float 型で正規化済み（0〜1）と仮定します。\n",
    "- transform処理では、画像サイズの違いを吸収するために `256x256` にリサイズし、テンソル化・正規化（-1〜1）を行います。\n",
    "\n",
    "また、正方形ではない画像にも対応できるように、アスペクト比を保持したリサイズに変更することも可能です。"
   ]
  },
  {
   "cell_type": "code",
   "execution_count": 12,
   "id": "daf9287b",
   "metadata": {},
   "outputs": [],
   "source": [
    "class ScoreImageDataset(Dataset):\n",
    "    def __init__(self, csv_path, img_dir, transform=None):\n",
    "        self.df = pd.read_csv(csv_path)\n",
    "        self.img_dir = Path(img_dir)\n",
    "        self.transform = transform\n",
    "\n",
    "    def __len__(self):\n",
    "        return len(self.df)\n",
    "\n",
    "    def __getitem__(self, idx):\n",
    "        row = self.df.iloc[idx]\n",
    "        # ファイル名の先頭に 'img_' を追加して対応\n",
    "        img_path = self.img_dir / f\"img_{int(row['id'])}.png\"\n",
    "\n",
    "        image = Image.open(img_path).convert('RGB')\n",
    "\n",
    "        if self.transform:\n",
    "            image = self.transform(image)\n",
    "\n",
    "        score = torch.tensor(float(row['score']), dtype=torch.float32)\n",
    "        return image, score\n",
    "\n",
    "# TransformはそのままでOK\n",
    "transform = transforms.Compose([\n",
    "    transforms.Resize((256, 256)),\n",
    "    transforms.ToTensor(),\n",
    "    transforms.Normalize([0.5, 0.5, 0.5], [0.5, 0.5, 0.5])\n",
    "])"
   ]
  },
  {
   "cell_type": "markdown",
   "id": "ebd58ece",
   "metadata": {},
   "source": [
    "### Step 3: CNNモデルの定義（回帰タスク）\n",
    "\n",
    "入力画像から好みスコア（0〜1）を回帰的に予測するための、シンプルなCNNモデルを定義します。\n",
    "\n",
    "- 畳み込み層（Conv2D）とプーリング（MaxPool）を数層積み重ね、\n",
    "- 最後に全結合層（Linear）を通して1つの出力値（score）を出力します。\n",
    "- 活性化関数にはReLUを使用し、最終層には活性化を使いません（回帰のため）。\n",
    "\n",
    "将来的には `sigmoid` で0〜1に制限することも可能ですが、ここではモデル自身が適切な範囲に学習することを期待します。"
   ]
  },
  {
   "cell_type": "code",
   "execution_count": 13,
   "id": "50bc92a1",
   "metadata": {},
   "outputs": [],
   "source": [
    "class SimpleCNNRegressor(nn.Module):\n",
    "    def __init__(self):\n",
    "        super().__init__()\n",
    "        self.net = nn.Sequential(\n",
    "            nn.Conv2d(3, 16, kernel_size=3, padding=1),  # (B, 3, 256, 256) → (B, 16, 256, 256)\n",
    "            nn.ReLU(),\n",
    "            nn.MaxPool2d(2),                             # → (B, 16, 128, 128)\n",
    "\n",
    "            nn.Conv2d(16, 32, kernel_size=3, padding=1),\n",
    "            nn.ReLU(),\n",
    "            nn.MaxPool2d(2),                             # → (B, 32, 64, 64)\n",
    "\n",
    "            nn.Conv2d(32, 64, kernel_size=3, padding=1),\n",
    "            nn.ReLU(),\n",
    "            nn.MaxPool2d(2),                             # → (B, 64, 32, 32)\n",
    "\n",
    "            nn.Flatten(),\n",
    "            nn.Linear(64 * 32 * 32, 128),\n",
    "            nn.ReLU(),\n",
    "            nn.Linear(128, 1)  # 出力1ノード（スコア）\n",
    "        )\n",
    "\n",
    "    def forward(self, x):\n",
    "        return self.net(x).squeeze(1)  # 出力 shape: (B)"
   ]
  },
  {
   "cell_type": "markdown",
   "id": "e0b9b455",
   "metadata": {},
   "source": [
    "### Step 4: 学習準備（損失関数・最適化・データローダ）\n",
    "\n",
    "モデルを学習するための損失関数とオプティマイザを定義します。\n",
    "\n",
    "- **損失関数（loss）**には、回帰タスクでよく使われる `MSELoss（平均二乗誤差）` を使用します。\n",
    "- **最適化アルゴリズム**には `Adam` を使い、学習率は `1e-4` に設定します。\n",
    "- データセットは `train_test_split` を用いて8:2に分割し、`DataLoader` でミニバッチ処理できるようにします。\n",
    "\n",
    "この段階でモデルとデータの準備が整い、学習ループへ進むことができます。"
   ]
  },
  {
   "cell_type": "code",
   "execution_count": 14,
   "id": "265da2da",
   "metadata": {},
   "outputs": [],
   "source": [
    "# データの読み込み\n",
    "full_dataset = ScoreImageDataset(CSV_PATH, IMG_DIR, transform=transform)\n",
    "\n",
    "# 訓練・検証に分割（8:2）\n",
    "train_indices, val_indices = train_test_split(\n",
    "    list(range(len(full_dataset))), test_size=0.2, random_state=42\n",
    ")\n",
    "train_dataset = torch.utils.data.Subset(full_dataset, train_indices)\n",
    "val_dataset = torch.utils.data.Subset(full_dataset, val_indices)\n",
    "\n",
    "# DataLoader\n",
    "train_loader = DataLoader(train_dataset, batch_size=32, shuffle=True)\n",
    "val_loader = DataLoader(val_dataset, batch_size=32, shuffle=False)\n",
    "\n",
    "# モデル定義\n",
    "model = SimpleCNNRegressor().to(device)\n",
    "\n",
    "# 損失関数 & 最適化\n",
    "criterion = nn.MSELoss()\n",
    "optimizer = torch.optim.Adam(model.parameters(), lr=1e-4)"
   ]
  },
  {
   "cell_type": "markdown",
   "id": "37e845b5",
   "metadata": {},
   "source": [
    "### Step 5: 学習ループの実装\n",
    "\n",
    "ここでは、CNNモデルを学習するメイントレーニングループを定義します。\n",
    "\n",
    "- 各エポックごとに訓練（train）と検証（val）の2フェーズを行います。\n",
    "- ミニバッチごとに損失（MSE）を計算し、訓練では誤差逆伝播とパラメータの更新を行います。\n",
    "- `tqdm` を使って進捗バーを表示しつつ、エポックごとの平均ロスを記録します。\n",
    "\n",
    "最後にエポックごとの loss を `train_losses` / `val_losses` に格納し、学習の様子を可視化できるようにします。"
   ]
  },
  {
   "cell_type": "code",
   "execution_count": 15,
   "id": "34714e8a",
   "metadata": {},
   "outputs": [],
   "source": [
    "from tqdm import tqdm\n",
    "\n",
    "def train_model(model, train_loader, val_loader, criterion, optimizer, device, epochs=10):\n",
    "    train_losses = []\n",
    "    val_losses = []\n",
    "\n",
    "    for epoch in range(epochs):\n",
    "        model.train()\n",
    "        running_train_loss = 0.0\n",
    "\n",
    "        for images, targets in tqdm(train_loader, desc=f\"Epoch {epoch+1}/{epochs} [train]\"):\n",
    "            images, targets = images.to(device), targets.to(device)\n",
    "\n",
    "            optimizer.zero_grad()\n",
    "            outputs = model(images)\n",
    "            loss = criterion(outputs, targets)\n",
    "            loss.backward()\n",
    "            optimizer.step()\n",
    "\n",
    "            running_train_loss += loss.item() * images.size(0)\n",
    "\n",
    "        avg_train_loss = running_train_loss / len(train_loader.dataset)\n",
    "        train_losses.append(avg_train_loss)\n",
    "\n",
    "        # 検証フェーズ\n",
    "        model.eval()\n",
    "        running_val_loss = 0.0\n",
    "        with torch.no_grad():\n",
    "            for images, targets in tqdm(val_loader, desc=f\"Epoch {epoch+1}/{epochs} [val]\"):\n",
    "                images, targets = images.to(device), targets.to(device)\n",
    "                outputs = model(images)\n",
    "                loss = criterion(outputs, targets)\n",
    "                running_val_loss += loss.item() * images.size(0)\n",
    "\n",
    "        avg_val_loss = running_val_loss / len(val_loader.dataset)\n",
    "        val_losses.append(avg_val_loss)\n",
    "\n",
    "        print(f\"Epoch {epoch+1}: Train Loss={avg_train_loss:.4f}, Val Loss={avg_val_loss:.4f}\")\n",
    "\n",
    "    return train_losses, val_losses"
   ]
  },
  {
   "cell_type": "markdown",
   "id": "c194ce08",
   "metadata": {},
   "source": [
    "### Step 6: 学習の実行と wandb ログの追加\n",
    "\n",
    "\n",
    "このステップでは、関数化せずにセルに直接学習ループを記述して学習を実行します。\n",
    "\n",
    "- `wandb.init()` でログ記録を開始し、エポックごとに `train_loss` と `val_loss` を `wandb.log()` で送信します。\n",
    "- 損失計算には `MSELoss` を使用し、モデルの評価モード (`model.eval()`) を用いて検証します。\n",
    "- 最終的に `wandb.finish()` でセッションを終了します。\n",
    "\n",
    "この形式は、試行錯誤や確認がしやすく、デバッグ・実験には非常に適しています。"
   ]
  },
  {
   "cell_type": "code",
   "execution_count": 18,
   "id": "cd022693",
   "metadata": {},
   "outputs": [
    {
     "data": {
      "text/html": [
       "Tracking run with wandb version 0.18.7"
      ],
      "text/plain": [
       "<IPython.core.display.HTML object>"
      ]
     },
     "metadata": {},
     "output_type": "display_data"
    },
    {
     "data": {
      "text/html": [
       "Run data is saved locally in <code>/Users/kimurawatarunari/Documents/git-project_file/parametric-generative-learning/code/python/wandb/run-20250611_120258-9a9qjii6</code>"
      ],
      "text/plain": [
       "<IPython.core.display.HTML object>"
      ]
     },
     "metadata": {},
     "output_type": "display_data"
    },
    {
     "data": {
      "text/html": [
       "Syncing run <strong><a href='https://wandb.ai/ritsumeikan-math/image2score/runs/9a9qjii6' target=\"_blank\">cnn_regression_run</a></strong> to <a href='https://wandb.ai/ritsumeikan-math/image2score' target=\"_blank\">Weights & Biases</a> (<a href='https://wandb.me/developer-guide' target=\"_blank\">docs</a>)<br/>"
      ],
      "text/plain": [
       "<IPython.core.display.HTML object>"
      ]
     },
     "metadata": {},
     "output_type": "display_data"
    },
    {
     "data": {
      "text/html": [
       " View project at <a href='https://wandb.ai/ritsumeikan-math/image2score' target=\"_blank\">https://wandb.ai/ritsumeikan-math/image2score</a>"
      ],
      "text/plain": [
       "<IPython.core.display.HTML object>"
      ]
     },
     "metadata": {},
     "output_type": "display_data"
    },
    {
     "data": {
      "text/html": [
       " View run at <a href='https://wandb.ai/ritsumeikan-math/image2score/runs/9a9qjii6' target=\"_blank\">https://wandb.ai/ritsumeikan-math/image2score/runs/9a9qjii6</a>"
      ],
      "text/plain": [
       "<IPython.core.display.HTML object>"
      ]
     },
     "metadata": {},
     "output_type": "display_data"
    },
    {
     "name": "stderr",
     "output_type": "stream",
     "text": [
      "Epoch 1/10 [train]: 100%|██████████| 25/25 [00:17<00:00,  1.44it/s]\n",
      "Epoch 1/10 [val]: 100%|██████████| 7/7 [00:03<00:00,  1.91it/s]\n"
     ]
    },
    {
     "name": "stdout",
     "output_type": "stream",
     "text": [
      "Epoch 1: Train Loss=0.0174, Val Loss=0.0128\n"
     ]
    },
    {
     "name": "stderr",
     "output_type": "stream",
     "text": [
      "Epoch 2/10 [train]: 100%|██████████| 25/25 [00:18<00:00,  1.36it/s]\n",
      "Epoch 2/10 [val]: 100%|██████████| 7/7 [00:03<00:00,  2.28it/s]\n"
     ]
    },
    {
     "name": "stdout",
     "output_type": "stream",
     "text": [
      "Epoch 2: Train Loss=0.0094, Val Loss=0.0091\n"
     ]
    },
    {
     "name": "stderr",
     "output_type": "stream",
     "text": [
      "Epoch 3/10 [train]: 100%|██████████| 25/25 [00:16<00:00,  1.51it/s]\n",
      "Epoch 3/10 [val]: 100%|██████████| 7/7 [00:02<00:00,  2.40it/s]\n"
     ]
    },
    {
     "name": "stdout",
     "output_type": "stream",
     "text": [
      "Epoch 3: Train Loss=0.0080, Val Loss=0.0070\n"
     ]
    },
    {
     "name": "stderr",
     "output_type": "stream",
     "text": [
      "Epoch 4/10 [train]: 100%|██████████| 25/25 [00:15<00:00,  1.58it/s]\n",
      "Epoch 4/10 [val]: 100%|██████████| 7/7 [00:03<00:00,  2.11it/s]\n"
     ]
    },
    {
     "name": "stdout",
     "output_type": "stream",
     "text": [
      "Epoch 4: Train Loss=0.0053, Val Loss=0.0055\n"
     ]
    },
    {
     "name": "stderr",
     "output_type": "stream",
     "text": [
      "Epoch 5/10 [train]: 100%|██████████| 25/25 [00:19<00:00,  1.29it/s]\n",
      "Epoch 5/10 [val]: 100%|██████████| 7/7 [00:03<00:00,  2.30it/s]\n"
     ]
    },
    {
     "name": "stdout",
     "output_type": "stream",
     "text": [
      "Epoch 5: Train Loss=0.0046, Val Loss=0.0052\n"
     ]
    },
    {
     "name": "stderr",
     "output_type": "stream",
     "text": [
      "Epoch 6/10 [train]: 100%|██████████| 25/25 [00:16<00:00,  1.48it/s]\n",
      "Epoch 6/10 [val]: 100%|██████████| 7/7 [00:02<00:00,  2.83it/s]\n"
     ]
    },
    {
     "name": "stdout",
     "output_type": "stream",
     "text": [
      "Epoch 6: Train Loss=0.0045, Val Loss=0.0039\n"
     ]
    },
    {
     "name": "stderr",
     "output_type": "stream",
     "text": [
      "Epoch 7/10 [train]: 100%|██████████| 25/25 [00:13<00:00,  1.79it/s]\n",
      "Epoch 7/10 [val]: 100%|██████████| 7/7 [00:02<00:00,  2.86it/s]\n"
     ]
    },
    {
     "name": "stdout",
     "output_type": "stream",
     "text": [
      "Epoch 7: Train Loss=0.0035, Val Loss=0.0033\n"
     ]
    },
    {
     "name": "stderr",
     "output_type": "stream",
     "text": [
      "Epoch 8/10 [train]: 100%|██████████| 25/25 [00:14<00:00,  1.72it/s]\n",
      "Epoch 8/10 [val]: 100%|██████████| 7/7 [00:04<00:00,  1.67it/s]\n"
     ]
    },
    {
     "name": "stdout",
     "output_type": "stream",
     "text": [
      "Epoch 8: Train Loss=0.0028, Val Loss=0.0026\n"
     ]
    },
    {
     "name": "stderr",
     "output_type": "stream",
     "text": [
      "Epoch 9/10 [train]: 100%|██████████| 25/25 [00:22<00:00,  1.12it/s]\n",
      "Epoch 9/10 [val]: 100%|██████████| 7/7 [00:03<00:00,  1.95it/s]\n"
     ]
    },
    {
     "name": "stdout",
     "output_type": "stream",
     "text": [
      "Epoch 9: Train Loss=0.0022, Val Loss=0.0028\n"
     ]
    },
    {
     "name": "stderr",
     "output_type": "stream",
     "text": [
      "Epoch 10/10 [train]: 100%|██████████| 25/25 [00:23<00:00,  1.07it/s]\n",
      "Epoch 10/10 [val]: 100%|██████████| 7/7 [00:04<00:00,  1.56it/s]\n"
     ]
    },
    {
     "name": "stdout",
     "output_type": "stream",
     "text": [
      "Epoch 10: Train Loss=0.0017, Val Loss=0.0019\n"
     ]
    },
    {
     "data": {
      "application/vnd.jupyter.widget-view+json": {
       "model_id": "33fe3cdd880843108c7c9f0778367d9b",
       "version_major": 2,
       "version_minor": 0
      },
      "text/plain": [
       "VBox(children=(Label(value='0.007 MB of 0.007 MB uploaded\\r'), FloatProgress(value=1.0, max=1.0)))"
      ]
     },
     "metadata": {},
     "output_type": "display_data"
    },
    {
     "data": {
      "text/html": [
       "\n",
       "    <style>\n",
       "        .wandb-row {\n",
       "            display: flex;\n",
       "            flex-direction: row;\n",
       "            flex-wrap: wrap;\n",
       "            justify-content: flex-start;\n",
       "            width: 100%;\n",
       "        }\n",
       "        .wandb-col {\n",
       "            display: flex;\n",
       "            flex-direction: column;\n",
       "            flex-basis: 100%;\n",
       "            flex: 1;\n",
       "            padding: 10px;\n",
       "        }\n",
       "    </style>\n",
       "<div class=\"wandb-row\"><div class=\"wandb-col\"><h3>Run history:</h3><br/><table class=\"wandb\"><tr><td>epoch</td><td>▁▂▃▃▄▅▆▆▇█</td></tr><tr><td>train_loss</td><td>█▄▄▃▂▂▂▁▁▁</td></tr><tr><td>val_loss</td><td>█▆▄▃▃▂▂▁▂▁</td></tr></table><br/></div><div class=\"wandb-col\"><h3>Run summary:</h3><br/><table class=\"wandb\"><tr><td>epoch</td><td>10</td></tr><tr><td>train_loss</td><td>0.00173</td></tr><tr><td>val_loss</td><td>0.0019</td></tr></table><br/></div></div>"
      ],
      "text/plain": [
       "<IPython.core.display.HTML object>"
      ]
     },
     "metadata": {},
     "output_type": "display_data"
    },
    {
     "data": {
      "text/html": [
       " View run <strong style=\"color:#cdcd00\">cnn_regression_run</strong> at: <a href='https://wandb.ai/ritsumeikan-math/image2score/runs/9a9qjii6' target=\"_blank\">https://wandb.ai/ritsumeikan-math/image2score/runs/9a9qjii6</a><br/> View project at: <a href='https://wandb.ai/ritsumeikan-math/image2score' target=\"_blank\">https://wandb.ai/ritsumeikan-math/image2score</a><br/>Synced 5 W&B file(s), 0 media file(s), 2 artifact file(s) and 0 other file(s)"
      ],
      "text/plain": [
       "<IPython.core.display.HTML object>"
      ]
     },
     "metadata": {},
     "output_type": "display_data"
    },
    {
     "data": {
      "text/html": [
       "Find logs at: <code>./wandb/run-20250611_120258-9a9qjii6/logs</code>"
      ],
      "text/plain": [
       "<IPython.core.display.HTML object>"
      ]
     },
     "metadata": {},
     "output_type": "display_data"
    }
   ],
   "source": [
    "import wandb\n",
    "\n",
    "wandb.init(project=\"image2score\", name=\"cnn_regression_run\")\n",
    "\n",
    "EPOCHS = 10\n",
    "train_losses = []\n",
    "val_losses = []\n",
    "\n",
    "for epoch in range(EPOCHS):\n",
    "    model.train()\n",
    "    running_train_loss = 0.0\n",
    "\n",
    "    for images, targets in tqdm(train_loader, desc=f\"Epoch {epoch+1}/{EPOCHS} [train]\"):\n",
    "        images, targets = images.to(device), targets.to(device)\n",
    "\n",
    "        optimizer.zero_grad()\n",
    "        outputs = model(images)\n",
    "        loss = criterion(outputs, targets)\n",
    "        loss.backward()\n",
    "        optimizer.step()\n",
    "\n",
    "        running_train_loss += loss.item() * images.size(0)\n",
    "\n",
    "    avg_train_loss = running_train_loss / len(train_loader.dataset)\n",
    "    train_losses.append(avg_train_loss)\n",
    "\n",
    "    model.eval()\n",
    "    running_val_loss = 0.0\n",
    "    with torch.no_grad():\n",
    "        for images, targets in tqdm(val_loader, desc=f\"Epoch {epoch+1}/{EPOCHS} [val]\"):\n",
    "            images, targets = images.to(device), targets.to(device)\n",
    "            outputs = model(images)\n",
    "            loss = criterion(outputs, targets)\n",
    "            running_val_loss += loss.item() * images.size(0)\n",
    "\n",
    "    avg_val_loss = running_val_loss / len(val_loader.dataset)\n",
    "    val_losses.append(avg_val_loss)\n",
    "\n",
    "    # wandb ログ\n",
    "    wandb.log({\n",
    "        \"epoch\": epoch + 1,\n",
    "        \"train_loss\": avg_train_loss,\n",
    "        \"val_loss\": avg_val_loss\n",
    "    })\n",
    "\n",
    "    print(f\"Epoch {epoch+1}: Train Loss={avg_train_loss:.4f}, Val Loss={avg_val_loss:.4f}\")\n",
    "\n",
    "wandb.finish()"
   ]
  },
  {
   "cell_type": "markdown",
   "id": "15176e63",
   "metadata": {},
   "source": [
    "### Step 8: 検証データからの予測と正解の表示\n",
    "\n",
    "検証用の DataLoader から数枚の画像を取り出し、モデルによる予測スコアと実際のスコアを並べて表示します。\n",
    "\n",
    "- `model.eval()` モードで予測を行い、\n",
    "- 元画像は `un-normalize` して表示用に変換します。\n",
    "- 結果は `matplotlib` を用いて並べて可視化します。\n",
    "\n",
    "このステップでは、モデルがどの程度「好みスコア」を捉えているかの直感的な理解を助けます。"
   ]
  },
  {
   "cell_type": "code",
   "execution_count": 19,
   "id": "1b9611e3",
   "metadata": {},
   "outputs": [
    {
     "data": {
      "image/png": "[encoded data removed]",
      "text/plain": [
       "<Figure size 1200x600 with 6 Axes>"
      ]
     },
     "metadata": {},
     "output_type": "display_data"
    }
   ],
   "source": [
    "# モデルを評価モードに\n",
    "model.eval()\n",
    "\n",
    "# 検証データから数件取り出して表示（例：6枚）\n",
    "n_samples = 6\n",
    "samples = []\n",
    "\n",
    "with torch.no_grad():\n",
    "    for images, targets in val_loader:\n",
    "        images = images.to(device)\n",
    "        preds = model(images)\n",
    "        samples = list(zip(images.cpu(), preds.cpu(), targets))[:n_samples]\n",
    "        break  # 最初のバッチだけでOK\n",
    "\n",
    "# 逆正規化関数（[-1, 1] → [0, 1]）\n",
    "def unnormalize(img_tensor):\n",
    "    return img_tensor * 0.5 + 0.5\n",
    "\n",
    "# 結果を並べて表示\n",
    "plt.figure(figsize=(12, 6))\n",
    "for i, (img, pred, true) in enumerate(samples):\n",
    "    plt.subplot(2, 3, i+1)\n",
    "    img_np = unnormalize(img).permute(1, 2, 0).numpy()\n",
    "    plt.imshow(img_np)\n",
    "    plt.axis(\"off\")\n",
    "    plt.title(f\"Pred: {pred.item():.3f}\\nTrue: {true.item():.3f}\")\n",
    "\n",
    "plt.tight_layout()\n",
    "plt.show()"
   ]
  },
  {
   "cell_type": "markdown",
   "id": "02301dbb",
   "metadata": {},
   "source": [
    "### Step 9: 散布図による予測性能の可視化\n",
    "\n",
    "検証データ全体に対してモデルによるスコア予測を行い、\n",
    "\n",
    "- 横軸：正解スコア（ground truth）\n",
    "- 縦軸：予測スコア（predicted）\n",
    "\n",
    "として散布図を描画することで、モデルの回帰性能を視覚的に確認します。\n",
    "\n",
    "理想的な予測であれば、点は対角線（y=x）上に並びます。"
   ]
  },
  {
   "cell_type": "code",
   "execution_count": 20,
   "id": "1b4a5c37",
   "metadata": {},
   "outputs": [
    {
     "data": {
      "image/png": "[encoded data removed]",
      "text/plain": [
       "<Figure size 600x600 with 1 Axes>"
      ]
     },
     "metadata": {},
     "output_type": "display_data"
    }
   ],
   "source": [
    "# 検証データ全体に対する予測を収集\n",
    "model.eval()\n",
    "all_preds = []\n",
    "all_targets = []\n",
    "\n",
    "with torch.no_grad():\n",
    "    for images, targets in val_loader:\n",
    "        images = images.to(device)\n",
    "        outputs = model(images).cpu().numpy()\n",
    "        all_preds.extend(outputs)\n",
    "        all_targets.extend(targets.numpy())\n",
    "\n",
    "# 散布図を描画\n",
    "plt.figure(figsize=(6, 6))\n",
    "plt.scatter(all_targets, all_preds, alpha=0.4)\n",
    "plt.plot([0, 1], [0, 1], 'r--', label=\"Ideal\")  # 対角線\n",
    "plt.xlabel(\"True Score\")\n",
    "plt.ylabel(\"Predicted Score\")\n",
    "plt.title(\"Prediction vs True Score\")\n",
    "plt.grid(True)\n",
    "plt.legend()\n",
    "plt.tight_layout()\n",
    "plt.show()"
   ]
  },
  {
   "cell_type": "code",
   "execution_count": null,
   "id": "beb25844",
   "metadata": {},
   "outputs": [],
   "source": []
  }
 ],
 "metadata": {
  "kernelspec": {
   "display_name": "Python 3",
   "language": "python",
   "name": "python3"
  },
  "language_info": {
   "codemirror_mode": {
    "name": "ipython",
    "version": 3
   },
   "file_extension": ".py",
   "mimetype": "text/x-python",
   "name": "python",
   "nbconvert_exporter": "python",
   "pygments_lexer": "ipython3",
   "version": "3.10.13"
  }
 },
 "nbformat": 4,
 "nbformat_minor": 5
}
