{
 "cells": [
  {
   "cell_type": "markdown",
   "id": "10c8a3b7",
   "metadata": {},
   "source": [
    "### 🛠️ Step 0: 初期設定と環境準備\n",
    "\n",
    "このステップでは、ノートブックの先頭で行う共通設定をまとめます。  \n",
    "学習対象のパラメータをループで処理するため、`TARGET_COLS` を定義し、画像サイズ・学習回数・保存先などを初期化しておきます。\n",
    "\n",
    "#### 💡 含まれる内容：\n",
    "- 使用パラメータリスト（dipCount / hue_cos / hue_sin / circleCount）\n",
    "- 学習用ハイパーパラメータ（バッチサイズ、エポック数など）\n",
    "- val_loss 測定の繰り返し回数（`REPEAT`）\n",
    "- 保存ファイル（`val_losses.json`）のパスと初期読み込み\n",
    "\n",
    "#### 🔥 ポイント：\n",
    "- `val_losses.json` は存在すれば読み込み、なければ空辞書で初期化\n",
    "- 後続のロス記録で `.append()` していくため、リスト形式で持つ"
   ]
  },
  {
   "cell_type": "code",
   "execution_count": 16,
   "id": "689459a4",
   "metadata": {},
   "outputs": [
    {
     "name": "stdout",
     "output_type": "stream",
     "text": [
      "✅ Using device: mps\n"
     ]
    }
   ],
   "source": [
    "# === ライブラリ読み込み ===\n",
    "import torch\n",
    "import torch.nn as nn\n",
    "import torch.nn.functional as F\n",
    "from torch.utils.data import Dataset, DataLoader\n",
    "from torchvision import transforms\n",
    "from PIL import Image\n",
    "import pandas as pd\n",
    "import numpy as np\n",
    "from pathlib import Path\n",
    "import json\n",
    "import random\n",
    "from tqdm import tqdm\n",
    "import matplotlib.pyplot as plt\n",
    "\n",
    "# === 対象パラメータ ===\n",
    "TARGET_COLS = [\"dipCount\", \"hue_cos\", \"hue_sin\", \"circleCount\"]\n",
    "\n",
    "# === ハイパーパラメータ ===\n",
    "IMAGE_SIZE = 128\n",
    "BATCH_SIZE = 32\n",
    "NUM_EPOCHS = 10\n",
    "LEARNING_RATE = 0.001\n",
    "REPEAT = 8  # 各パラメータごとの val_loss 測定回数（例：10）\n",
    "\n",
    "# === パス定義 ===\n",
    "DATA_DIR = Path(\"../../data/circle-stroke\")\n",
    "CSV_PATH = DATA_DIR / \"metadata.csv\"\n",
    "IMG_DIR = DATA_DIR / \"images\"\n",
    "\n",
    "VAL_LOSS_PATH = Path(\"../../loss_stats/val_losses.json\")\n",
    "\n",
    "# === デバイス設定（Mac対応）===\n",
    "if torch.backends.mps.is_available():\n",
    "    device = torch.device(\"mps\")\n",
    "elif torch.cuda.is_available():\n",
    "    device = torch.device(\"cuda\")\n",
    "else:\n",
    "    device = torch.device(\"cpu\")\n",
    "\n",
    "print(f\"✅ Using device: {device}\")\n",
    "\n",
    "# === val_losses.json の読み込み or 初期化 ===\n",
    "if VAL_LOSS_PATH.exists():\n",
    "    with open(VAL_LOSS_PATH, \"r\") as f:\n",
    "        val_losses = json.load(f)\n",
    "else:\n",
    "    val_losses = {}\n",
    "\n",
    "# === リスト形式にしておく（初期化）===\n",
    "for col in TARGET_COLS:\n",
    "    if col not in val_losses:\n",
    "        val_losses[col] = []"
   ]
  },
  {
   "cell_type": "markdown",
   "id": "2fe967c3",
   "metadata": {},
   "source": [
    "### 🧮 Step 1: CSV読み込みと対象データの抽出\n",
    "\n",
    "このステップでは、画像とパラメータ情報が記載された `metadata.csv` を読み込み、  \n",
    "画像ファイルとマッチするデータのみを抽出します。単体学習でもマルチ学習と同じデータ構成にするため、  \n",
    "共通のCSVと画像ディレクトリを使用します。\n",
    "\n",
    "#### 💡 含まれる処理：\n",
    "- `metadata.csv` を読み込み\n",
    "- `TARGET_COLS` に含まれるすべてのパラメータを含む行のみ抽出\n",
    "- 画像ファイルの存在確認\n",
    "- ファイルパス列の追加"
   ]
  },
  {
   "cell_type": "code",
   "execution_count": 17,
   "id": "bc935b8d",
   "metadata": {},
   "outputs": [
    {
     "name": "stdout",
     "output_type": "stream",
     "text": [
      "✅ 使用可能なデータ数: 999\n"
     ]
    },
    {
     "data": {
      "text/html": [
       "<div>\n",
       "<style scoped>\n",
       "    .dataframe tbody tr th:only-of-type {\n",
       "        vertical-align: middle;\n",
       "    }\n",
       "\n",
       "    .dataframe tbody tr th {\n",
       "        vertical-align: top;\n",
       "    }\n",
       "\n",
       "    .dataframe thead th {\n",
       "        text-align: right;\n",
       "    }\n",
       "</style>\n",
       "<table border=\"1\" class=\"dataframe\">\n",
       "  <thead>\n",
       "    <tr style=\"text-align: right;\">\n",
       "      <th></th>\n",
       "      <th>id</th>\n",
       "      <th>dipCount</th>\n",
       "      <th>hue</th>\n",
       "      <th>circleCount</th>\n",
       "      <th>filename</th>\n",
       "      <th>filepath</th>\n",
       "    </tr>\n",
       "  </thead>\n",
       "  <tbody>\n",
       "    <tr>\n",
       "      <th>0</th>\n",
       "      <td>20250521_0001</td>\n",
       "      <td>3</td>\n",
       "      <td>326.0</td>\n",
       "      <td>1444</td>\n",
       "      <td>image_20250521_0001.png</td>\n",
       "      <td>../../data/circle-stroke/images/image_20250521...</td>\n",
       "    </tr>\n",
       "    <tr>\n",
       "      <th>1</th>\n",
       "      <td>20250521_0002</td>\n",
       "      <td>5</td>\n",
       "      <td>10.2</td>\n",
       "      <td>718</td>\n",
       "      <td>image_20250521_0002.png</td>\n",
       "      <td>../../data/circle-stroke/images/image_20250521...</td>\n",
       "    </tr>\n",
       "    <tr>\n",
       "      <th>2</th>\n",
       "      <td>20250521_0003</td>\n",
       "      <td>3</td>\n",
       "      <td>69.9</td>\n",
       "      <td>1149</td>\n",
       "      <td>image_20250521_0003.png</td>\n",
       "      <td>../../data/circle-stroke/images/image_20250521...</td>\n",
       "    </tr>\n",
       "    <tr>\n",
       "      <th>3</th>\n",
       "      <td>20250521_0004</td>\n",
       "      <td>5</td>\n",
       "      <td>342.1</td>\n",
       "      <td>773</td>\n",
       "      <td>image_20250521_0004.png</td>\n",
       "      <td>../../data/circle-stroke/images/image_20250521...</td>\n",
       "    </tr>\n",
       "    <tr>\n",
       "      <th>4</th>\n",
       "      <td>20250521_0005</td>\n",
       "      <td>9</td>\n",
       "      <td>349.5</td>\n",
       "      <td>1092</td>\n",
       "      <td>image_20250521_0005.png</td>\n",
       "      <td>../../data/circle-stroke/images/image_20250521...</td>\n",
       "    </tr>\n",
       "  </tbody>\n",
       "</table>\n",
       "</div>"
      ],
      "text/plain": [
       "              id  dipCount    hue  circleCount                 filename  \\\n",
       "0  20250521_0001         3  326.0         1444  image_20250521_0001.png   \n",
       "1  20250521_0002         5   10.2          718  image_20250521_0002.png   \n",
       "2  20250521_0003         3   69.9         1149  image_20250521_0003.png   \n",
       "3  20250521_0004         5  342.1          773  image_20250521_0004.png   \n",
       "4  20250521_0005         9  349.5         1092  image_20250521_0005.png   \n",
       "\n",
       "                                            filepath  \n",
       "0  ../../data/circle-stroke/images/image_20250521...  \n",
       "1  ../../data/circle-stroke/images/image_20250521...  \n",
       "2  ../../data/circle-stroke/images/image_20250521...  \n",
       "3  ../../data/circle-stroke/images/image_20250521...  \n",
       "4  ../../data/circle-stroke/images/image_20250521...  "
      ]
     },
     "execution_count": 17,
     "metadata": {},
     "output_type": "execute_result"
    }
   ],
   "source": [
    "# === CSV読み込み ===\n",
    "df = pd.read_csv(CSV_PATH)\n",
    "\n",
    "# id + ターゲット列のみ抽出\n",
    "df_targets = df[[\"id\"] + [\"dipCount\", \"hue\", \"circleCount\"]].copy()\n",
    "\n",
    "# ファイル名・パス列を追加\n",
    "df_targets[\"filename\"] = df_targets[\"id\"].apply(lambda x: f\"image_{x}.png\")\n",
    "df_targets[\"filepath\"] = df_targets[\"filename\"].apply(lambda x: IMG_DIR / x)\n",
    "\n",
    "# 実在する画像ファイルだけにフィルタリング\n",
    "df_targets = df_targets[df_targets[\"filepath\"].apply(lambda x: x.exists())].reset_index(drop=True)\n",
    "\n",
    "# チェック\n",
    "print(f\"✅ 使用可能なデータ数: {len(df_targets)}\")\n",
    "df_targets.head()"
   ]
  },
  {
   "cell_type": "markdown",
   "id": "58333d24",
   "metadata": {},
   "source": [
    "### 🧾 Step 2: 単体パラメータ用 Dataset クラスの定義\n",
    "\n",
    "このステップでは、画像と単一のパラメータを対応付けた PyTorch Dataset を定義します。  \n",
    "`TARGET_COLS` をループで回す前提なので、**引数で対象パラメータを指定**できるようにしておきます。\n",
    "\n",
    "#### 💡 含まれる構成：\n",
    "\n",
    "- `SingleParamDataset` クラス\n",
    "- 指定した `target_col` のみをラベルとして抽出\n",
    "- Transform 付きの画像前処理（Resize → ToTensor）"
   ]
  },
  {
   "cell_type": "code",
   "execution_count": 18,
   "id": "b4fabff2",
   "metadata": {},
   "outputs": [],
   "source": [
    "class SingleParamDataset(Dataset):\n",
    "    def __init__(self, df, img_dir, target_col, image_size=128):\n",
    "        self.df = df.reset_index(drop=True)\n",
    "        self.img_dir = img_dir\n",
    "        self.target_col = target_col\n",
    "        self.image_size = image_size\n",
    "        self.transform = transforms.Compose([\n",
    "            transforms.Resize((image_size, image_size)),\n",
    "            transforms.ToTensor()\n",
    "        ])\n",
    "\n",
    "    def __len__(self):\n",
    "        return len(self.df)\n",
    "\n",
    "    def __getitem__(self, idx):\n",
    "        row = self.df.iloc[idx]\n",
    "\n",
    "        # 画像読み込み\n",
    "        image = Image.open(row[\"filepath\"]).convert(\"RGB\")\n",
    "        image = self.transform(image)\n",
    "\n",
    "        # ラベル取得（float型）\n",
    "        if self.target_col == \"hue_cos\":\n",
    "            hue_rad = np.deg2rad(row[\"hue\"])\n",
    "            label = np.cos(hue_rad)\n",
    "        elif self.target_col == \"hue_sin\":\n",
    "            hue_rad = np.deg2rad(row[\"hue\"])\n",
    "            label = np.sin(hue_rad)\n",
    "        else:\n",
    "            label = row[self.target_col]\n",
    "\n",
    "        return image, torch.tensor(label, dtype=torch.float32)"
   ]
  },
  {
   "cell_type": "markdown",
   "id": "2d7471ec",
   "metadata": {},
   "source": [
    "### 📦 Step 3: train/val 分割と DataLoader 構築\n",
    "\n",
    "このステップでは、前処理済みの `df_targets` を訓練・検証用に分割し、  \n",
    "指定された `target_col` に対して `SingleParamDataset` を使って DataLoader を構築します。  \n",
    "この処理は `REPEAT` ループの中で何度も使うため、関数化しておくと便利です。\n",
    "\n",
    "#### 💡 含まれる処理：\n",
    "\n",
    "- `train_test_split` による 80:20 分割\n",
    "- Dataset / DataLoader の作成\n",
    "- 1回の呼び出しでバッチ学習ができる構造に整理"
   ]
  },
  {
   "cell_type": "code",
   "execution_count": 19,
   "id": "a17f3e6a",
   "metadata": {},
   "outputs": [],
   "source": [
    "from sklearn.model_selection import train_test_split\n",
    "\n",
    "def create_dataloaders(df, target_col):\n",
    "    df_train, df_val = train_test_split(df, test_size=0.2, random_state=random.randint(0, 9999))\n",
    "\n",
    "    train_dataset = SingleParamDataset(df_train, IMG_DIR, target_col, image_size=IMAGE_SIZE)\n",
    "    val_dataset = SingleParamDataset(df_val, IMG_DIR, target_col, image_size=IMAGE_SIZE)\n",
    "\n",
    "    train_loader = DataLoader(train_dataset, batch_size=BATCH_SIZE, shuffle=True)\n",
    "    val_loader = DataLoader(val_dataset, batch_size=BATCH_SIZE, shuffle=False)\n",
    "\n",
    "    return train_loader, val_loader"
   ]
  },
  {
   "cell_type": "markdown",
   "id": "7a08388b",
   "metadata": {},
   "source": [
    "### 🧠 Step 4: 単一出力用 CNN モデルの定義\n",
    "\n",
    "このステップでは、各パラメータを1つずつ回帰するための、**1出力のCNNモデル** を定義します。  \n",
    "複雑な構造は必要なく、v2/v3と同じ構成の簡略版で十分です。\n",
    "\n",
    "#### 💡 含まれる内容：\n",
    "\n",
    "- 入力：RGB画像（3×128×128）\n",
    "- 出力：1次元の回帰値（1ユニット）\n",
    "- `SingleParamCNN` クラスとして定義し、毎回インスタンス化"
   ]
  },
  {
   "cell_type": "code",
   "execution_count": 20,
   "id": "ca2e01be",
   "metadata": {},
   "outputs": [],
   "source": [
    "class SingleParamCNN(nn.Module):\n",
    "    def __init__(self, image_size=128):\n",
    "        super().__init__()\n",
    "        self.conv1 = nn.Conv2d(3, 16, kernel_size=3, padding=1)\n",
    "        self.pool = nn.MaxPool2d(2, 2)\n",
    "        self.conv2 = nn.Conv2d(16, 32, kernel_size=3, padding=1)\n",
    "\n",
    "        flatten_size = 32 * (image_size // 4) * (image_size // 4)\n",
    "        self.fc1 = nn.Linear(flatten_size, 64)\n",
    "        self.fc2 = nn.Linear(64, 1)  # 出力1ユニット（単一回帰）\n",
    "\n",
    "    def forward(self, x):\n",
    "        x = self.pool(F.relu(self.conv1(x)))\n",
    "        x = self.pool(F.relu(self.conv2(x)))\n",
    "        x = x.view(x.size(0), -1)\n",
    "        x = F.relu(self.fc1(x))\n",
    "        return self.fc2(x).squeeze(1)  # shape: (B,) にする"
   ]
  },
  {
   "cell_type": "markdown",
   "id": "b1315167",
   "metadata": {},
   "source": [
    "### 🏋️‍♀️ Step 5: 学習と val_loss の測定（REPEAT対応）\n",
    "\n",
    "このステップでは、`REPEAT` 回数に応じて学習を複数回実行し、各回の val_loss を測定します。  \n",
    "1回ごとにモデルを再初期化し、train/val をランダムに分割して実施することで、  \n",
    "安定した性能指標を得られるようにします。\n",
    "\n",
    "#### 💡 含まれる処理：\n",
    "\n",
    "- ループで REPEAT 回学習\n",
    "- 各回の val_loss をリストに記録\n",
    "- tqdm による進捗表示つき"
   ]
  },
  {
   "cell_type": "code",
   "execution_count": 21,
   "id": "07bf25ed",
   "metadata": {},
   "outputs": [],
   "source": [
    "def train_and_evaluate(target_col, repeat=1):\n",
    "    losses = []\n",
    "\n",
    "    for i in tqdm(range(repeat), desc=f\"🎯 {target_col}\"):\n",
    "        train_loader, val_loader = create_dataloaders(df_targets, target_col)\n",
    "\n",
    "        model = SingleParamCNN(image_size=IMAGE_SIZE).to(device)\n",
    "        criterion = nn.MSELoss()\n",
    "        optimizer = torch.optim.Adam(model.parameters(), lr=LEARNING_RATE)\n",
    "\n",
    "        # --- 学習ループ ---\n",
    "        model.train()\n",
    "        for epoch in range(NUM_EPOCHS):\n",
    "            for images, labels in train_loader:\n",
    "                images, labels = images.to(device), labels.to(device)\n",
    "\n",
    "                optimizer.zero_grad()\n",
    "                outputs = model(images)\n",
    "                loss = criterion(outputs, labels)\n",
    "                loss.backward()\n",
    "                optimizer.step()\n",
    "\n",
    "        # --- 検証ループ ---\n",
    "        model.eval()\n",
    "        val_loss = 0.0\n",
    "        with torch.no_grad():\n",
    "            for images, labels in val_loader:\n",
    "                images, labels = images.to(device), labels.to(device)\n",
    "                outputs = model(images)\n",
    "                loss = criterion(outputs, labels)\n",
    "                val_loss += loss.item() * images.size(0)\n",
    "\n",
    "        avg_val_loss = val_loss / len(val_loader.dataset)\n",
    "        losses.append(avg_val_loss)\n",
    "\n",
    "    return losses"
   ]
  },
  {
   "cell_type": "markdown",
   "id": "927e9145",
   "metadata": {},
   "source": [
    "### 💾 Step 6: val_losses.json への追記と保存\n",
    "\n",
    "このステップでは、各パラメータに対する `val_loss` リストを `val_losses.json` に追記保存します。  \n",
    "既存データがあれば `.extend()`、なければ新規キーを追加する設計です。\n",
    "\n",
    "#### 💡 含まれる処理：\n",
    "\n",
    "- 各パラメータの `val_loss` リストを記録\n",
    "- JSONの既存データに `.extend()` で追記\n",
    "- 保存は `indent=2` 付きで整形"
   ]
  },
  {
   "cell_type": "code",
   "execution_count": 22,
   "id": "7389e603",
   "metadata": {},
   "outputs": [
    {
     "name": "stdout",
     "output_type": "stream",
     "text": [
      "🔁 dipCount を 8 回学習して val_loss 測定中...\n"
     ]
    },
    {
     "name": "stderr",
     "output_type": "stream",
     "text": [
      "🎯 dipCount: 100%|██████████| 8/8 [25:35<00:00, 191.99s/it]\n"
     ]
    },
    {
     "name": "stdout",
     "output_type": "stream",
     "text": [
      "🔁 hue_cos を 8 回学習して val_loss 測定中...\n"
     ]
    },
    {
     "name": "stderr",
     "output_type": "stream",
     "text": [
      "🎯 hue_cos: 100%|██████████| 8/8 [25:00<00:00, 187.55s/it]\n"
     ]
    },
    {
     "name": "stdout",
     "output_type": "stream",
     "text": [
      "🔁 hue_sin を 8 回学習して val_loss 測定中...\n"
     ]
    },
    {
     "name": "stderr",
     "output_type": "stream",
     "text": [
      "🎯 hue_sin: 100%|██████████| 8/8 [24:12<00:00, 181.51s/it]\n"
     ]
    },
    {
     "name": "stdout",
     "output_type": "stream",
     "text": [
      "🔁 circleCount を 8 回学習して val_loss 測定中...\n"
     ]
    },
    {
     "name": "stderr",
     "output_type": "stream",
     "text": [
      "🎯 circleCount: 100%|██████████| 8/8 [26:10<00:00, 196.31s/it]"
     ]
    },
    {
     "name": "stdout",
     "output_type": "stream",
     "text": [
      "✅ val_losses.json に保存しました\n"
     ]
    },
    {
     "name": "stderr",
     "output_type": "stream",
     "text": [
      "\n"
     ]
    }
   ],
   "source": [
    "# === 全パラメータを順に処理して val_loss を記録 ===\n",
    "for target_col in TARGET_COLS:\n",
    "    print(f\"🔁 {target_col} を {REPEAT} 回学習して val_loss 測定中...\")\n",
    "    new_losses = train_and_evaluate(target_col, repeat=REPEAT)\n",
    "\n",
    "    if target_col in val_losses:\n",
    "        val_losses[target_col].extend(new_losses)\n",
    "    else:\n",
    "        val_losses[target_col] = new_losses\n",
    "\n",
    "# === 保存（追記型）===\n",
    "VAL_LOSS_PATH.parent.mkdir(parents=True, exist_ok=True)  # ディレクトリがなければ作成\n",
    "with open(VAL_LOSS_PATH, \"w\") as f:\n",
    "    json.dump(val_losses, f, indent=2)\n",
    "\n",
    "print(\"✅ val_losses.json に保存しました\")"
   ]
  },
  {
   "cell_type": "markdown",
   "id": "30828371",
   "metadata": {},
   "source": [
    "### 📈 Step 7: val_losses.json の確認と統計的可視化\n",
    "\n",
    "このステップでは、記録された `val_losses.json` の中身を読み込んで、  \n",
    "各パラメータの分布・平均・標準偏差を表示し、今後の重み決定に役立てます。\n",
    "\n",
    "#### 💡 含まれる処理：\n",
    "\n",
    "- JSONファイルの読み込み\n",
    "- 各パラメータの統計（件数 / 平均 / 標準偏差）\n",
    "- matplotlibで分布ヒストグラムの描画（任意）"
   ]
  },
  {
   "cell_type": "code",
   "execution_count": 23,
   "id": "74df6c6e",
   "metadata": {},
   "outputs": [
    {
     "name": "stdout",
     "output_type": "stream",
     "text": [
      "📊 val_losses 統計情報\n",
      "- dipCount: 9件 | mean=0.1683 | std=0.0426\n",
      "- hue_cos: 9件 | mean=0.0017 | std=0.0007\n",
      "- hue_sin: 9件 | mean=0.0027 | std=0.0013\n",
      "- circleCount: 9件 | mean=23574.9651 | std=1452.8835\n"
     ]
    },
    {
     "data": {
      "image/png": "[encoded data removed]",
      "text/plain": [
       "<Figure size 1600x400 with 4 Axes>"
      ]
     },
     "metadata": {},
     "output_type": "display_data"
    }
   ],
   "source": [
    "# === JSONを再読み込み（確認用） ===\n",
    "with open(VAL_LOSS_PATH, \"r\") as f:\n",
    "    val_losses = json.load(f)\n",
    "\n",
    "# === 各パラメータの統計情報表示 ===\n",
    "print(\"📊 val_losses 統計情報\")\n",
    "for key, losses in val_losses.items():\n",
    "    arr = np.array(losses)\n",
    "    print(f\"- {key}: {len(losses)}件 | mean={arr.mean():.4f} | std={arr.std():.4f}\")\n",
    "\n",
    "# === ヒストグラム可視化（任意） ===\n",
    "fig, axes = plt.subplots(1, len(TARGET_COLS), figsize=(4 * len(TARGET_COLS), 4))\n",
    "for i, key in enumerate(TARGET_COLS):\n",
    "    ax = axes[i]\n",
    "    ax.hist(val_losses[key], bins=10, alpha=0.7)\n",
    "    ax.set_title(key)\n",
    "    ax.set_xlabel(\"val_loss\")\n",
    "    ax.set_ylabel(\"count\")\n",
    "plt.tight_layout()\n",
    "plt.show()"
   ]
  },
  {
   "cell_type": "markdown",
   "id": "ad620db0",
   "metadata": {},
   "source": []
  }
 ],
 "metadata": {
  "kernelspec": {
   "display_name": "Python 3",
   "language": "python",
   "name": "python3"
  },
  "language_info": {
   "codemirror_mode": {
    "name": "ipython",
    "version": 3
   },
   "file_extension": ".py",
   "mimetype": "text/x-python",
   "name": "python",
   "nbconvert_exporter": "python",
   "pygments_lexer": "ipython3",
   "version": "3.10.13"
  }
 },
 "nbformat": 4,
 "nbformat_minor": 5
}
